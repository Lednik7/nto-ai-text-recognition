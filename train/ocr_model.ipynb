{
 "cells": [
  {
   "cell_type": "markdown",
   "metadata": {
    "id": "3aafd11a"
   },
   "source": [
    "# Скачивание датасета"
   ]
  },
  {
   "cell_type": "code",
   "execution_count": null,
   "metadata": {
    "colab": {
     "base_uri": "https://localhost:8080/"
    },
    "id": "za2oK9IoYwyP",
    "outputId": "3c96698b-39d1-4707-ba04-daaf7c12a3f1"
   },
   "outputs": [],
   "source": [
    "!wget https://storage.yandexcloud.net/datasouls-competitions/ai-nto-final-2022/data.zip"
   ]
  },
  {
   "cell_type": "code",
   "execution_count": null,
   "metadata": {
    "colab": {
     "base_uri": "https://localhost:8080/"
    },
    "id": "bzbuk10yaXjM",
    "outputId": "ba8db3d4-13cd-440b-9c0f-e0374e6e5563"
   },
   "outputs": [],
   "source": [
    "!unzip /content/data.zip"
   ]
  },
  {
   "cell_type": "markdown",
   "metadata": {
    "id": "lERJvXMLY6QS"
   },
   "source": [
    "# Импорт"
   ]
  },
  {
   "cell_type": "code",
   "execution_count": null,
   "metadata": {
    "id": "HcGEefrrhxbB"
   },
   "outputs": [],
   "source": [
    "import torch\n",
    "import torch.nn as nn\n",
    "import torch.nn.functional as F\n",
    "import torchvision\n",
    "from torch.utils.data import Dataset\n",
    "from torch.nn.utils.rnn import pad_sequence\n",
    "from tqdm.notebook import tqdm\n",
    "import numpy as np\n",
    "import editdistance\n",
    "from sklearn.model_selection import train_test_split\n",
    "from collections import Counter\n",
    "import cv2\n",
    "import pandas as pd\n",
    "import matplotlib.pyplot as plt\n",
    "from IPython.display import clear_output\n",
    "from torchvision import transforms\n",
    "import os\n",
    "import random\n",
    "from PIL import Image, ImageDraw\n",
    "import json\n",
    "from IPython.display import clear_output\n",
    "\n",
    "from matplotlib import pyplot as plt"
   ]
  },
  {
   "cell_type": "code",
   "execution_count": null,
   "metadata": {
    "id": "WoD2T0GTYvKP"
   },
   "outputs": [],
   "source": []
  },
  {
   "cell_type": "markdown",
   "metadata": {
    "id": "b75fcf1e"
   },
   "source": [
    "#Разделим трейн датасет на обучающую и валидационную подвыборки\n"
   ]
  },
  {
   "cell_type": "code",
   "execution_count": null,
   "metadata": {
    "id": "9HEGa-RgECO-"
   },
   "outputs": [],
   "source": [
    "labels = pd.read_csv('../input/ocr-dataset/data/train_recognition/labels.csv')\n",
    "labels_train, labels_val = train_test_split(labels, test_size=0.05, random_state=655)"
   ]
  },
  {
   "cell_type": "code",
   "execution_count": null,
   "metadata": {
    "id": "62lbBTVzD3dr"
   },
   "outputs": [],
   "source": [
    "labels.dropna()"
   ]
  },
  {
   "cell_type": "code",
   "execution_count": null,
   "metadata": {
    "id": "TD8oM_blOrjU"
   },
   "outputs": [],
   "source": [
    "def process_image(img, n_w=256, n_h=64):\n",
    "    w, h,_ = img.shape\n",
    "    new_w = n_h\n",
    "    new_h = int(h * (new_w / w))\n",
    "    img = cv2.resize(img, (new_h, new_w))\n",
    "    w, h,_ = img.shape\n",
    "    \n",
    "    if w < n_h:\n",
    "        add_zeros = np.full((n_h-w, h,3), 0)\n",
    "        img = np.concatenate((img, add_zeros))\n",
    "        w, h,_ = img.shape\n",
    "    \n",
    "    if h < n_w:\n",
    "        add_zeros = np.full((w, n_w-h,3), 0)\n",
    "        img = np.concatenate((img, add_zeros), axis=1)\n",
    "        w, h,_ = img.shape\n",
    "        \n",
    "    if h > n_w or w > n_h:\n",
    "        dim = (n_w,n_h)\n",
    "        img = cv2.resize(img, dim)\n",
    "\n",
    "    return img\n",
    "\n",
    "def replace_black_to_white(image):\n",
    "    brown_lo = np.array([0,0,0])\n",
    "    brown_hi = np.array([0,0,0])\n",
    "\n",
    "    # Mask image to only select browns\n",
    "    mask = cv2.inRange(image,brown_lo,brown_hi)\n",
    "\n",
    "    # Change image to red where we found brown\n",
    "    image[mask>0] = (255,255,255)\n",
    "    return image"
   ]
  },
  {
   "cell_type": "code",
   "execution_count": null,
   "metadata": {
    "id": "_84tiFQSlTGC"
   },
   "outputs": [],
   "source": [
    "class ExtraLinesAugmentation:\n",
    "    '''\n",
    "    Add random black lines to an image\n",
    "    Args:\n",
    "        number_of_lines (int): number of black lines to add\n",
    "        width_of_lines (int): width of lines\n",
    "    '''\n",
    "\n",
    "    def __init__(self, number_of_lines: int = 1, width_of_lines: int = 10):\n",
    "        self.number_of_lines = number_of_lines\n",
    "        self.width_of_lines = width_of_lines\n",
    "      \n",
    "    def __call__(self, img):\n",
    "        draw = ImageDraw.Draw(img)\n",
    "        for _ in range(self.number_of_lines):\n",
    "            x1 = random.randint(0, np.array(img).shape[1]); y1 = random.randint(0, np.array(img).shape[0])\n",
    "            x2 = random.randint(0, np.array(img).shape[1]); y2 = random.randint(0, np.array(img).shape[0])\n",
    "            draw.line((x1, y1, x2 + 100, y2), fill=(100, 0, 0), width=self.width_of_lines)\n",
    "\n",
    "        return img"
   ]
  },
  {
   "cell_type": "code",
   "execution_count": null,
   "metadata": {
    "id": "gb9J59FTLvPW"
   },
   "outputs": [],
   "source": [
    "def plot_loss_history(train_history, val_history, title='loss'):\n",
    "    plt.figure()\n",
    "    plt.title('{}'.format(title))\n",
    "    plt.plot(train_history, label='train', zorder=1)\n",
    "    \n",
    "    points = np.array(val_history)\n",
    "    steps = list(range(0, len(train_history) + 1, int(len(train_history) / len(val_history))))[1:]\n",
    "    \n",
    "    plt.scatter(steps, val_history, marker='+', s=180, c='orange', label='val', zorder=2)\n",
    "    plt.xlabel('train steps')\n",
    "    \n",
    "    plt.legend(loc='best')\n",
    "    plt.grid()\n",
    "\n",
    "    plt.show()"
   ]
  },
  {
   "cell_type": "markdown",
   "metadata": {
    "id": "df5f5065"
   },
   "source": [
    "## 2. Зададим параметры обучения\n"
   ]
  },
  {
   "cell_type": "code",
   "execution_count": null,
   "metadata": {
    "id": "5fa07481"
   },
   "outputs": [],
   "source": [
    "DEVICE = torch.device('cuda' if torch.cuda.is_available() else 'cpu')\n",
    "\n",
    "\n",
    "config_json = {\n",
    "    \"alphabet\": \"\"\"@ !\"%'()+,-./0123456789:;=?AEFIMNOSTW[]abcdefghiklmnopqrstuvwxyАБВГДЕЖЗИКЛМНОПРСТУХЦЧШЭЮЯабвгдежзийклмнопрстуфхцчшщъыьэюяё№\"\"\",\n",
    "    #\"alphabet\": \"\"\"@(),-.012345:;?I[]БВГДЗИКМНОПРСТУабвгдежзийклмнопрстуфхцчшщыьэюяё\"\"\",\n",
    "    \"save_dir\": \"data/experiments/test\",\n",
    "    \"num_epochs\": 500,\n",
    "    \"image\": {\n",
    "        \"width\": 256,\n",
    "        \"height\": 64\n",
    "    },\n",
    "    \"train\": {\n",
    "        \"root_path\": \"../input/ocr-dataset/data/train_recognition/images\",\n",
    "        \"batch_size\": 64\n",
    "    },\n",
    "    \"val\": {\n",
    "        \"root_path\": \"../input/ocr-dataset/data/train_recognition/images\",\n",
    "        \"batch_size\": 128\n",
    "    }\n",
    "}"
   ]
  },
  {
   "cell_type": "code",
   "execution_count": null,
   "metadata": {
    "id": "z_8hONhPINm6"
   },
   "outputs": [],
   "source": [
    "def process_row(text):\n",
    "    text = text.replace(' ', '|')\n",
    "    text = list(text)\n",
    "    for i in range(len(text)):\n",
    "        if text[i] not in config_json['alphabet'] and text[i] != '|':\n",
    "            text[i] = '@'\n",
    "    return \" \".join(text)\n",
    "def prepare_labels(path):\n",
    "    lines = [line.rstrip() for line in open(path)]\n",
    "    arr = []\n",
    "    for line in lines:\n",
    "        arr.append([line.split('\\t')[0], line.split('\\t')[1]])\n",
    "    return arr"
   ]
  },
  {
   "cell_type": "markdown",
   "metadata": {
    "id": "9d8253e0"
   },
   "source": [
    "## 3. Теперь определим класс датасета (torch.utils.data.Dataset) и другие вспомогательные функции"
   ]
  },
  {
   "cell_type": "code",
   "execution_count": null,
   "metadata": {
    "id": "HfIdji0ixhr_"
   },
   "outputs": [],
   "source": [
    "def black2white(image):\n",
    "    lo=np.array([0,0,0])\n",
    "\n",
    "    hi=np.array([0,0,0])\n",
    "\n",
    "    mask = cv2.inRange(image, lo, hi)\n",
    "\n",
    "    image[mask>0]=(255,255,255)\n",
    "\n",
    "    return image"
   ]
  },
  {
   "cell_type": "code",
   "execution_count": null,
   "metadata": {
    "id": "81d7bd72"
   },
   "outputs": [],
   "source": [
    "# функция которая помогает объединять картинки и таргет-текст в батч\n",
    "def collate_fn(batch):\n",
    "    images, texts, enc_texts = zip(*batch)\n",
    "    images = torch.stack(images, 0)\n",
    "    text_lens = torch.LongTensor([len(text) for text in texts])\n",
    "    enc_pad_texts = pad_sequence(enc_texts, batch_first=True, padding_value=0)\n",
    "    return images, texts, enc_pad_texts, text_lens\n",
    "def collate_fn_val(batch):\n",
    "    images, texts, enc_texts = zip(*batch)\n",
    "    images = torch.stack(images, 0)\n",
    "    text_lens = torch.LongTensor([len(text) for text in texts])\n",
    "    enc_pad_texts = pad_sequence(enc_texts, batch_first=True, padding_value=0)\n",
    "    return images, texts, enc_pad_texts, text_lens\n",
    "\n",
    "\n",
    "def get_data_loader(\n",
    "    transforms, df, root_path, tokenizer, batch_size, drop_last, config, train, shuffle=False\n",
    "):\n",
    "    dataset = OCRDataset(df, root_path, tokenizer, config, train, transforms)\n",
    "    data_loader = torch.utils.data.DataLoader(\n",
    "        dataset=dataset,\n",
    "        collate_fn=collate_fn,\n",
    "        batch_size=batch_size,\n",
    "        num_workers=4,\n",
    "        shuffle=shuffle\n",
    "    )\n",
    "    return data_loader\n",
    "\n",
    "def get_data_loader_val(\n",
    "    transforms, df, root_path, tokenizer, batch_size, drop_last, config, train, shuffle=False\n",
    "):\n",
    "    dataset = OCRDataset(df, root_path, tokenizer, config, train, transforms)\n",
    "    data_loader = torch.utils.data.DataLoader(\n",
    "        dataset=dataset,\n",
    "        collate_fn=collate_fn_val,\n",
    "        batch_size=batch_size,\n",
    "        num_workers=4,\n",
    "        shuffle=shuffle\n",
    "    )\n",
    "    return data_loader\n",
    "\n",
    "def prepare_val_image(image, transform1, transform2):\n",
    "    image3 = image.astype(np.uint8)\n",
    "    image3 = Image.fromarray(image3)\n",
    "    image3 = transform1(image3)\n",
    "    image3 = np.array(image3).astype(np.int64)\n",
    "    image3 = transform2(image3)\n",
    "    return image3\n",
    "class OCRDataset(Dataset):\n",
    "    def __init__(self, df, root_path, tokenizer, config, train=False, transform=None):\n",
    "        super().__init__()\n",
    "        self.transform = transform\n",
    "        self.config = config\n",
    "        self.df = df\n",
    "        self.data_len = len(self.df)\n",
    "        self.train = train\n",
    "        self.train_transform = transforms.Compose([\n",
    "            ExtraLinesAugmentation(number_of_lines=3,\n",
    "                                   width_of_lines=8),                         \n",
    "            transforms.RandomAffine(degrees=0,\n",
    "                                    scale=(0.935, 0.935),\n",
    "                                    fillcolor=0),\n",
    "            transforms.RandomCrop((self.config['image']['height'], self.config['image']['width'])),\n",
    "            transforms.RandomRotation(degrees=(-12, 12),\n",
    "                                      fill=255),])\n",
    "        self.img_paths = []\n",
    "        self.texts = []\n",
    "        for i in range(self.data_len):\n",
    "            self.img_paths.append(os.path.join(root_path, self.df['file_name'].iloc[i]))\n",
    "            self.texts.append(self.df['text'].iloc[i])\n",
    "        self.enc_texts = tokenizer.encode(self.texts)\n",
    "    def __len__(self):\n",
    "        return self.data_len\n",
    "\n",
    "    def __getitem__(self, idx):\n",
    "        img_path = self.img_paths[idx]\n",
    "        text = self.texts[idx]\n",
    "        enc_len = 32\n",
    "        enc_text = self.enc_texts[idx][:enc_len]\n",
    "        enc_text = enc_text + [0] * (enc_len - len(enc_text))\n",
    "        enc_text = torch.LongTensor(enc_text)\n",
    "        image = black2white(cv2.imread(img_path))\n",
    "        \n",
    "        if self.train:\n",
    "            #image = self.blots(image)\n",
    "            image = process_image(image,\n",
    "                                  int(self.config['image']['width'] * 1.05),\n",
    "                                  int(self.config['image']['height'] * 1.05))\n",
    "            \n",
    "            image = image.astype(np.uint8)\n",
    "            image = Image.fromarray(image)\n",
    "            image = self.train_transform(image)\n",
    "            image = np.array(image).astype(np.int64)\n",
    "        else:\n",
    "            image = process_image(image, self.config['image']['width'], self.config['image']['height'])\n",
    "        if self.transform is not None:\n",
    "            image = self.transform(image)\n",
    "        if self.train:\n",
    "            image = image ** (random.random() * 0.7 + 0.6)\n",
    "        if self.train == False:\n",
    "            return image, text, enc_text\n",
    "        else:\n",
    "            return image, text, enc_text\n",
    "\n",
    "\n",
    "class AverageMeter:\n",
    "    \"\"\"Computes and stores the average and current value\"\"\"\n",
    "    def __init__(self):\n",
    "        self.reset()\n",
    "\n",
    "    def reset(self):\n",
    "        self.avg = 0\n",
    "        self.sum = 0\n",
    "        self.count = 0\n",
    "\n",
    "    def update(self, val, n=1):\n",
    "        self.sum += val * n\n",
    "        self.count += n\n",
    "        self.avg = self.sum / self.count"
   ]
  },
  {
   "cell_type": "markdown",
   "metadata": {
    "id": "f9ab404a"
   },
   "source": [
    "## 4. Здесь определен Токенайзер - вспопогательный класс, который преобразует текст в числа\n"
   ]
  },
  {
   "cell_type": "code",
   "execution_count": null,
   "metadata": {
    "id": "b50de073"
   },
   "outputs": [],
   "source": [
    "CTC_BLANK = '<BLANK>'\n",
    "\n",
    "def get_char_map(alphabet):\n",
    "    \"\"\"Make from string alphabet character2int dict.\n",
    "    Add BLANK char fro CTC loss and OOV char for out of vocabulary symbols.\"\"\"\n",
    "    char_map = {value: idx + 1 for (idx, value) in enumerate(alphabet)}\n",
    "    char_map[CTC_BLANK] = 0\n",
    "    return char_map\n",
    "\n",
    "\n",
    "class Tokenizer:\n",
    "    \"\"\"Class for encoding and decoding string word to sequence of int\n",
    "    (and vice versa) using alphabet.\"\"\"\n",
    "\n",
    "    def __init__(self, alphabet):\n",
    "        self.char_map = get_char_map(alphabet)\n",
    "        self.rev_char_map = {val: key for key, val in self.char_map.items()}\n",
    "\n",
    "    def encode(self, word_list):\n",
    "        \"\"\"Returns a list of encoded words (int).\"\"\"\n",
    "        enc_words = []\n",
    "        for word in word_list:\n",
    "            enc_words.append(\n",
    "                [self.char_map[char] if char in self.char_map\n",
    "                 else 1\n",
    "                 for char in word]\n",
    "            )\n",
    "        return enc_words\n",
    "\n",
    "    def get_num_chars(self):\n",
    "        return len(self.char_map)\n",
    "\n",
    "    def decode(self, enc_word_list):\n",
    "        \"\"\"Returns a list of words (str) after removing blanks and collapsing\n",
    "        repeating characters. Also skip out of vocabulary token.\"\"\"\n",
    "        dec_words = []\n",
    "        for word in enc_word_list:\n",
    "            word_chars = ''\n",
    "            for idx, char_enc in enumerate(word):\n",
    "                # skip if blank symbol, oov token or repeated characters\n",
    "                if (\n",
    "                    char_enc != self.char_map[CTC_BLANK]\n",
    "                    # idx > 0 to avoid selecting [-1] item\n",
    "                    and not (idx > 0 and char_enc == word[idx - 1])\n",
    "                ):\n",
    "                    word_chars += self.rev_char_map[char_enc]\n",
    "            dec_words.append(word_chars)\n",
    "        return dec_words\n",
    "    def decode_after_beam(self, enc_word_list):\n",
    "        \"\"\"Returns a list of words (str) after removing blanks and collapsing\n",
    "        repeating characters. Also skip out of vocabulary token.\"\"\"\n",
    "        dec_words = []\n",
    "        for word in enc_word_list:\n",
    "            word_chars = ''\n",
    "            for idx, char_enc in enumerate(word):\n",
    "                word_chars += self.rev_char_map[char_enc]\n",
    "            dec_words.append(word_chars)\n",
    "        return dec_words"
   ]
  },
  {
   "cell_type": "markdown",
   "metadata": {
    "id": "b11eaca2"
   },
   "source": [
    "## 5. Accuracy в качестве метрики\n",
    "\n",
    "Accuracy измеряет долю предсказанных строк текста, которые полностью совпадают с таргет текстом."
   ]
  },
  {
   "cell_type": "code",
   "execution_count": null,
   "metadata": {
    "id": "e5c166f8"
   },
   "outputs": [],
   "source": [
    "def get_accuracy(y_true, y_pred):\n",
    "    scores = []\n",
    "    for true, pred in zip(y_true, y_pred):\n",
    "        scores.append(true == pred)\n",
    "    avg_score = np.mean(scores)\n",
    "    return avg_score"
   ]
  },
  {
   "cell_type": "markdown",
   "metadata": {
    "id": "7706c20d"
   },
   "source": [
    "## 6. Аугментации\n",
    "\n",
    "Здесь мы задаем базовые аугментации для модели. Вы можете написать свои или использовать готовые библиотеки типа albumentations"
   ]
  },
  {
   "cell_type": "code",
   "execution_count": null,
   "metadata": {
    "id": "dd4ed911"
   },
   "outputs": [],
   "source": [
    "class Normalize:\n",
    "    def __call__(self, img):\n",
    "        img = img.astype(np.float32) / 255\n",
    "        return img\n",
    "\n",
    "\n",
    "class ToTensor:\n",
    "    def __call__(self, arr):\n",
    "        arr = torch.from_numpy(arr)\n",
    "        return arr\n",
    "\n",
    "\n",
    "class MoveChannels:\n",
    "    \"\"\"Move the channel axis to the zero position as required in pytorch.\"\"\"\n",
    "\n",
    "    def __init__(self, to_channels_first=True):\n",
    "        self.to_channels_first = to_channels_first\n",
    "\n",
    "    def __call__(self, image):\n",
    "        if self.to_channels_first:\n",
    "            return np.moveaxis(image, -1, 0)\n",
    "        else:\n",
    "            return np.moveaxis(image, 0, -1)\n",
    "\n",
    "\n",
    "class ImageResize:\n",
    "    def __init__(self, height, width):\n",
    "        self.height = height\n",
    "        self.width = width\n",
    "\n",
    "    def __call__(self, image):\n",
    "        image = cv2.resize(image, (self.width, self.height),\n",
    "                           interpolation=cv2.INTER_LINEAR)\n",
    "        return image\n",
    "\n",
    "\n",
    "\n",
    "def get_train_transforms(height, width):\n",
    "    transforms = torchvision.transforms.Compose([\n",
    "        #ImageResize(height, width),\n",
    "        \n",
    "        MoveChannels(to_channels_first=True),\n",
    "        Normalize(),\n",
    "        ToTensor()\n",
    "    ])\n",
    "    return transforms\n",
    "\n",
    "\n",
    "def get_val_transforms(height, width):\n",
    "    transforms = torchvision.transforms.Compose([\n",
    "        #ImageResize(height, width),\n",
    "        MoveChannels(to_channels_first=True),\n",
    "        Normalize(),\n",
    "        ToTensor()\n",
    "    ])\n",
    "    return transforms"
   ]
  },
  {
   "cell_type": "markdown",
   "metadata": {
    "id": "97e90f73"
   },
   "source": [
    "## 7. Здесь определяем саму модель - CRNN\n",
    "\n",
    "Подробнее об архитектуре можно почитать в статье https://arxiv.org/abs/1507.05717"
   ]
  },
  {
   "cell_type": "code",
   "execution_count": null,
   "metadata": {
    "id": "76186574"
   },
   "outputs": [],
   "source": [
    "def get_resnet34_backbone(pretrained=True):\n",
    "    m = torchvision.models.resnet34(pretrained=True)\n",
    "    input_conv = nn.Conv2d(3, 64, 7, 1, 3)\n",
    "    blocks = [input_conv, m.bn1, m.relu,\n",
    "              m.maxpool, m.layer1, m.layer2, m.layer3]\n",
    "    return nn.Sequential(*blocks)\n",
    "def get_resnet50_backbone(pretrained=True):\n",
    "    m = torchvision.models.resnet50(pretrained=True)\n",
    "    input_conv = nn.Conv2d(3, 64, 7, 1, 3)\n",
    "    blocks = [input_conv, m.bn1, m.relu,\n",
    "              m.maxpool, m.layer1, m.layer2, m.layer3]\n",
    "    return nn.Sequential(*blocks)\n",
    "\n",
    "class BiLSTM(nn.Module):\n",
    "    def __init__(self, input_size, hidden_size, num_layers, dropout=0.1):\n",
    "        super().__init__()\n",
    "        self.lstm = nn.LSTM(\n",
    "            input_size, hidden_size, num_layers,\n",
    "            dropout=dropout, batch_first=True, bidirectional=True)\n",
    "\n",
    "    def forward(self, x):\n",
    "        out, _ = self.lstm(x)\n",
    "        return out"
   ]
  },
  {
   "cell_type": "code",
   "execution_count": null,
   "metadata": {
    "id": "Lgq6FpQHkAT6"
   },
   "outputs": [],
   "source": [
    "class CRNN_RESNET(nn.Module):\n",
    "    def __init__(\n",
    "        self, number_class_symbols, out_len=32\n",
    "    ):\n",
    "        super().__init__()\n",
    "        self.feature_extractor = get_resnet34_backbone(pretrained=True)\n",
    "        # веса resnet34 получаются из этого гитхаба https://github.com/lolpa1n/digital-peter-ocrv \n",
    "        #self.feature_extractor.load_state_dict(torch.load('../input/ocr-resnet/resnet_ocr.pt')) \n",
    "        self.avg_pool = nn.AdaptiveAvgPool2d(\n",
    "            (512, out_len))\n",
    "        self.bilstm = BiLSTM(512, 256, 2)\n",
    "        self.classifier = nn.Sequential(\n",
    "            nn.Linear(512, 256),\n",
    "            nn.GELU(),\n",
    "            nn.Dropout(0.1),\n",
    "            nn.Linear(256, number_class_symbols)\n",
    "        )\n",
    "    def forward(self, x, return_x=False):\n",
    "        feature = self.feature_extractor(x)\n",
    "        b, c, h, w = feature.size()\n",
    "        feature = feature.view(b, c * h, w)\n",
    "        feature = self.avg_pool(feature)\n",
    "        feature = feature.transpose(1, 2)\n",
    "        out = self.bilstm(feature)\n",
    "        #print(x.shape)\n",
    "        out = self.classifier(out)\n",
    "        \n",
    "\n",
    "        x1 = nn.functional.log_softmax(out, dim=2).permute(1, 0, 2)\n",
    "        if return_x:\n",
    "            return x1, out\n",
    "        else:\n",
    "            return x1"
   ]
  },
  {
   "cell_type": "markdown",
   "metadata": {
    "id": "f6df8f95"
   },
   "source": [
    "## 8. Переходим к самому скрипту обучения - циклы трейна и валидации"
   ]
  },
  {
   "cell_type": "code",
   "execution_count": null,
   "metadata": {
    "id": "852fb92c"
   },
   "outputs": [],
   "source": [
    "from copy import deepcopy\n",
    "\n",
    "def val_loop(data_loader, model, criterion, tokenizer, device):\n",
    "    acc_avg = AverageMeter()\n",
    "    loss_avg = AverageMeter()\n",
    "    error_chars = 0\n",
    "    criterion2 = nn.CrossEntropyLoss()\n",
    "    total_string = 0\n",
    "    ctc_weight = 0.9\n",
    "    for images, texts, enc_pad_texts, text_lens in tqdm(data_loader):\n",
    "        batch_size = len(texts)\n",
    "        enc_pad_texts2 = deepcopy(enc_pad_texts.view(-1)).cuda()\n",
    "        text_preds, output, output2 = predict(images, model, tokenizer, device, return_output=True)\n",
    "        output_lenghts = torch.full(\n",
    "            size=(output.size(1),),\n",
    "            fill_value=output.size(0),\n",
    "            dtype=torch.long\n",
    "        )\n",
    "\n",
    "        loss1 = criterion(output, enc_pad_texts, output_lenghts, text_lens).mean()\n",
    "        output2 = output2.view(output2.shape[0] * output2.shape[1], output2.shape[2])\n",
    "        loss2 = criterion2(output2,\n",
    "                           enc_pad_texts2)\n",
    "        loss = ctc_weight * loss1 + (1.0 - ctc_weight) * loss2\n",
    "        loss_avg.update(loss.item(), batch_size)\n",
    "        for i in range(batch_size):\n",
    "            total_string += 1\n",
    "            error_chars += (editdistance.eval(text_preds[i], texts[i]) / len(texts[i]))\n",
    "            '''\n",
    "            if text_preds[i] != texts[i]:\n",
    "                print('----------------')\n",
    "                print(f'true: {texts[i]}')\n",
    "                print(f'pred: {text_preds[i]}')\n",
    "            '''\n",
    "        acc_avg.update(get_accuracy(texts, text_preds), batch_size)\n",
    "    print(f\"Val loss average: {loss_avg.avg}\")\n",
    "    print(f'Validation, acc: {acc_avg.avg:.4f}')\n",
    "    print(f\"CER: {error_chars / total_string * 100}%\")\n",
    "    #loss, cer, acc\n",
    "    return loss_avg.avg, error_chars / total_string, acc_avg.avg\n",
    "\n",
    "def train_loop(data_loader, model, criterion, optimizer, epoch, train_history=[]):\n",
    "    loss_avg = AverageMeter()\n",
    "    model.train()\n",
    "    criterion2 = nn.CrossEntropyLoss()\n",
    "    ctc_weight = 0.9\n",
    "    i = 0\n",
    "    for images, texts, enc_pad_texts, text_lens in tqdm(data_loader):\n",
    "        model.zero_grad()\n",
    "        images = images.to(DEVICE)\n",
    "        enc_pad_texts2 = deepcopy(enc_pad_texts.view(-1)).cuda()\n",
    "        batch_size = len(texts)\n",
    "        output, output2 = model(images, True)\n",
    "        output_lenghts = torch.full(\n",
    "            size=(output.size(1),),\n",
    "            fill_value=output.size(0),\n",
    "            dtype=torch.long\n",
    "        )\n",
    "        #print(output.permute(1, 0, 2).shape, enc_pad_texts.shape)\n",
    "        #enc_pad_texts2 = []\n",
    "        #second_loss = criterion2(output.permute(1, 0, 2), enc_pad_texts)\n",
    "        enc_pad_texts = enc_pad_texts.flatten()  # make 1dim, the doc says we can do it\n",
    "        enc_pad_texts = enc_pad_texts[enc_pad_texts != 0]  # drop blank dims\n",
    "\n",
    "        loss1 = criterion(output, enc_pad_texts, output_lenghts, text_lens).mean()#(criterion(output, enc_pad_texts, output_lenghts, text_lens).mean() + second_loss) / 2 \n",
    "        output2 = output2.view(output2.shape[0] * output2.shape[1], output2.shape[2])\n",
    "        loss2 = criterion2(output2, enc_pad_texts2)\n",
    "        loss = ctc_weight * loss1 + (1.0 - ctc_weight) * loss2    \n",
    "        loss_avg.update(loss.item(), batch_size)\n",
    "        train_history.append(loss.item())\n",
    "        loss.backward()\n",
    "        torch.nn.utils.clip_grad_norm_(model.parameters(), 2)\n",
    "        optimizer.step()\n",
    "        if i % 100 == 0:\n",
    "            print('train_loss =', loss)\n",
    "        i += 1\n",
    "    for param_group in optimizer.param_groups:\n",
    "        lr = param_group['lr']\n",
    "    print(f'\\nEpoch {epoch}, Loss: {loss_avg.avg:.5f}, LR: {lr:.7f}')\n",
    "    return loss_avg.avg, train_history\n",
    "\n",
    "\n",
    "def predict(images, model, tokenizer, device, return_output=False):\n",
    "    model.eval()\n",
    "    images = images.to(device)\n",
    "    #print(images.shape)\n",
    "    with torch.no_grad():\n",
    "        output, output2 = model(images, True)\n",
    "    #output = process_output(output)\n",
    "    pred = torch.argmax(output.detach().cpu(), -1).permute(1, 0).numpy()\n",
    "    text_preds = tokenizer.decode(pred)\n",
    "    if return_output:\n",
    "        return text_preds, output, output2\n",
    "    else:\n",
    "        return text_preds\n",
    "\n",
    "\n",
    "def get_loaders(tokenizer, config, labels_train, labels_val):\n",
    "    train_transforms = get_train_transforms(\n",
    "        height=config['image']['height'],\n",
    "        width=config['image']['width']\n",
    "    )\n",
    "    train_loader = get_data_loader(\n",
    "        df=labels_train,\n",
    "        root_path=config['train']['root_path'],\n",
    "        transforms=train_transforms,\n",
    "        tokenizer=tokenizer,\n",
    "        batch_size=config['train']['batch_size'],\n",
    "        drop_last=True,\n",
    "        config=config,\n",
    "        train=True,\n",
    "        shuffle=True\n",
    "\n",
    "    )\n",
    "    val_transforms = get_val_transforms(\n",
    "        height=config['image']['height'],\n",
    "        width=config['image']['width']\n",
    "    )\n",
    "    val_loader = get_data_loader_val(\n",
    "        df=labels_val,\n",
    "        transforms=val_transforms,\n",
    "        root_path=config['val']['root_path'],\n",
    "        tokenizer=tokenizer,\n",
    "        batch_size=config['val']['batch_size'],\n",
    "        drop_last=False,\n",
    "        config=config,\n",
    "        train=False,\n",
    "        shuffle=False\n",
    "    )\n",
    "    return train_loader, val_loader\n"
   ]
  },
  {
   "cell_type": "code",
   "execution_count": null,
   "metadata": {
    "id": "m6SqnyFpQCRb"
   },
   "outputs": [],
   "source": [
    "tokenizer = Tokenizer(config_json['alphabet'])\n",
    "os.makedirs(config_json['save_dir'], exist_ok=True)\n",
    "train_loader, val_loader = get_loaders(tokenizer, config_json, labels_train, labels_val)"
   ]
  },
  {
   "cell_type": "code",
   "execution_count": null,
   "metadata": {
    "id": "fz4LbkxxIdOT"
   },
   "outputs": [],
   "source": [
    "tokenizer.get_num_chars()"
   ]
  },
  {
   "cell_type": "code",
   "execution_count": null,
   "metadata": {
    "id": "5-0kvf4AMW6n"
   },
   "outputs": [],
   "source": [
    "model = CRNN_RESNET(tokenizer.get_num_chars(), 32)\n",
    "model.to(DEVICE)\n",
    "model.eval()"
   ]
  },
  {
   "cell_type": "code",
   "execution_count": null,
   "metadata": {
    "id": "lR1-i6eGB7dI"
   },
   "outputs": [],
   "source": [
    "criterion = torch.nn.CTCLoss(blank=0, reduction='none', zero_infinity=True)\n",
    "optimizer = torch.optim.AdamW(model.parameters(), lr=0.001,\n",
    "                                  weight_decay=0.01)\n",
    "\n",
    "scheduler = torch.optim.lr_scheduler.ReduceLROnPlateau(\n",
    "    optimizer=optimizer, mode='min', factor=0.5, patience=2)"
   ]
  },
  {
   "cell_type": "code",
   "execution_count": null,
   "metadata": {
    "id": "mpE9JQD1AKtS"
   },
   "outputs": [],
   "source": [
    "best_cer = np.inf\n",
    "best_loss = np.inf\n",
    "best_epoch = 0\n",
    "train_history = []\n",
    "val_history = []\n",
    "val_loop(val_loader, model, criterion, tokenizer, DEVICE)\n",
    "for epoch in tqdm(range(config_json['num_epochs'])):\n",
    "    print(\"num of epoch\", epoch)\n",
    "    loss_avg, train_history = train_loop(train_loader, model, criterion, optimizer, epoch, train_history)\n",
    "    print('average_train_loss', loss_avg)\n",
    "    val_loss_avg, cer_avg, acc_avg = val_loop(val_loader, model, criterion, tokenizer, DEVICE)\n",
    "    val_history.append(val_loss_avg)\n",
    "    scheduler.step(cer_avg)\n",
    "    if cer_avg < best_cer:\n",
    "        best_cer = cer_avg\n",
    "        best_epoch = epoch\n",
    "        best_loss = val_loss_avg\n",
    "        model_save_path = os.path.join(\n",
    "            config_json['save_dir'], f'model-{epoch}-{cer_avg:.4f}.ckpt')\n",
    "        torch.save(model.state_dict(), '/content/' + model_save_path)\n",
    "        print('Model weights saved')\n",
    "    clear_output()\n",
    "    for param_group in optimizer.param_groups:\n",
    "        lr = param_group['lr']\n",
    "    print(f'Current CER = {cer_avg}')\n",
    "    print(f'Current loss = {val_loss_avg}')\n",
    "    print(f'Current acc_avg = {acc_avg}')\n",
    "    print(f'Current learning rate = {lr}')\n",
    "    print('-' * 20)\n",
    "    print(f'Best CER = {best_cer}')\n",
    "    print(f'Best loss = {best_loss}')\n",
    "    print(f'Best epoch = {best_epoch}')\n",
    "    plot_loss_history(train_history, val_history)"
   ]
  }
 ],
 "metadata": {
  "accelerator": "GPU",
  "colab": {
   "name": "ocr-model.ipynb",
   "provenance": []
  },
  "kernelspec": {
   "display_name": "Python 3 (ipykernel)",
   "language": "python",
   "name": "python3"
  },
  "language_info": {
   "codemirror_mode": {
    "name": "ipython",
    "version": 3
   },
   "file_extension": ".py",
   "mimetype": "text/x-python",
   "name": "python",
   "nbconvert_exporter": "python",
   "pygments_lexer": "ipython3",
   "version": "3.7.12"
  }
 },
 "nbformat": 4,
 "nbformat_minor": 4
}
