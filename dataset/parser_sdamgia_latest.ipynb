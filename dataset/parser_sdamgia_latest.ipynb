{
 "cells": [
  {
   "cell_type": "markdown",
   "metadata": {},
   "source": [
    "## Парсер заданий с текстом Решу ЕГЭ/ОГЭ"
   ]
  },
  {
   "cell_type": "code",
   "execution_count": 1,
   "metadata": {
    "colab": {
     "base_uri": "https://localhost:8080/"
    },
    "id": "BVjpXFguyIZY",
    "outputId": "75fd825c-4ec9-4d4c-c9ad-7166bd6e6ae7"
   },
   "outputs": [
    {
     "name": "stdout",
     "output_type": "stream",
     "text": [
      "Mounted at /content/drive\n"
     ]
    }
   ],
   "source": [
    "from google.colab import drive\n",
    "drive.mount('/content/drive')"
   ]
  },
  {
   "cell_type": "markdown",
   "metadata": {},
   "source": [
    "### Устанавливаем selenium webdriver в Colab"
   ]
  },
  {
   "cell_type": "code",
   "execution_count": null,
   "metadata": {
    "id": "Z-WKWQBKKXzk"
   },
   "outputs": [],
   "source": [
    "from IPython.display import clear_output"
   ]
  },
  {
   "cell_type": "code",
   "execution_count": null,
   "metadata": {
    "id": "F0su8EerR_Dy"
   },
   "outputs": [],
   "source": [
    "!pip install selenium\n",
    "!apt-get update # to update ubuntu to correctly run apt install\n",
    "!apt install chromium-chromedriver\n",
    "!cp /usr/lib/chromium-browser/chromedriver /usr/bin\n",
    "clear_output()"
   ]
  },
  {
   "cell_type": "code",
   "execution_count": null,
   "metadata": {
    "id": "vYtWRKjEK7sZ"
   },
   "outputs": [],
   "source": [
    "import sys\n",
    "from selenium import webdriver\n",
    "import time\n",
    "from tqdm.notebook import tqdm\n",
    "import re\n",
    "from bs4 import BeautifulSoup\n",
    "from selenium.webdriver.common.keys import Keys\n",
    "import pickle"
   ]
  },
  {
   "cell_type": "code",
   "execution_count": null,
   "metadata": {
    "id": "gDOr5NUdSEly"
   },
   "outputs": [],
   "source": [
    "sys.path.insert(0, '/usr/lib/chromium-browser/chromedriver')\n",
    "\n",
    "def get_browser():\n",
    "    chrome_options = webdriver.ChromeOptions()\n",
    "    chrome_options.add_argument('--headless')\n",
    "    chrome_options.add_argument('--no-sandbox')\n",
    "    chrome_options.add_argument('--disable-dev-shm-usage')\n",
    "    browser = webdriver.Chrome('chromedriver', chrome_options=chrome_options)\n",
    "    return browser"
   ]
  },
  {
   "cell_type": "code",
   "execution_count": null,
   "metadata": {
    "colab": {
     "base_uri": "https://localhost:8080/"
    },
    "id": "wOl-00HZSHO_",
    "outputId": "18323369-6f12-4549-95ef-bfb9cec51dad"
   },
   "outputs": [
    {
     "name": "stderr",
     "output_type": "stream",
     "text": [
      "/usr/local/lib/python3.7/dist-packages/ipykernel_launcher.py:8: DeprecationWarning: use options instead of chrome_options\n",
      "  \n"
     ]
    }
   ],
   "source": [
    "browser = get_browser()"
   ]
  },
  {
   "cell_type": "code",
   "execution_count": null,
   "metadata": {
    "id": "aDf1FjanXCI1"
   },
   "outputs": [],
   "source": [
    "# ссылки на подборки заданий\n",
    "links = [\"https://rus-ege.sdamgia.ru/test?theme=330\",\n",
    "         \"https://rus-ege.sdamgia.ru/test?theme=323\",\n",
    "         \"https://rus-ege.sdamgia.ru/test?theme=240\",\n",
    "         \"https://rus-ege.sdamgia.ru/test?theme=332\",\n",
    "         \"https://rus-ege.sdamgia.ru/test?theme=331\",\n",
    "         \n",
    "         \"https://rus-oge.sdamgia.ru/test?theme=128\",\n",
    "         \"https://rus-oge.sdamgia.ru/test?theme=114\",\n",
    "         \"https://rus-oge.sdamgia.ru/test?theme=99\"]"
   ]
  },
  {
   "cell_type": "code",
   "execution_count": null,
   "metadata": {
    "id": "7_v6OJsoodL4"
   },
   "outputs": [],
   "source": [
    "dataset = set()\n",
    "NUM = 32 # как долго будем крутить страницу вниз, для получения заданий\n",
    "TIMEOUT = 0.2 # сколько будем ждать загрузку новых заданий\n",
    "\n",
    "for link in tqdm(links):\n",
    "    browser.get(link)\n",
    "    for _ in tqdm(range(NUM)):\n",
    "        html = browser.find_element_by_tag_name('html')\n",
    "        html.send_keys(Keys.END)\n",
    "        time.sleep(TIMEOUT)\n",
    "        soup = BeautifulSoup(browser.page_source, 'lxml')\n",
    "        texts = soup.find_all(\"div\", {\"class\": \"probtext\"})\n",
    "        for text in texts:\n",
    "            p = text.find_all(\"p\") #, {\"class\":\"left_margin\"}\n",
    "            paragraphs = []\n",
    "            for line in p:\n",
    "                try:\n",
    "                    if re.search(r\"\\(\\d+\\)\", line.text).span():\n",
    "                        paragraphs.append(line.text)\n",
    "                except: pass\n",
    "            if paragraphs:\n",
    "                dataset.add((link, tuple(paragraphs)))"
   ]
  },
  {
   "cell_type": "code",
   "execution_count": null,
   "metadata": {
    "colab": {
     "base_uri": "https://localhost:8080/"
    },
    "id": "OmoIu690eCnu",
    "outputId": "855ed96c-ab9a-47ff-d757-1404b223c1b0"
   },
   "outputs": [
    {
     "data": {
      "text/plain": [
       "True"
      ]
     },
     "execution_count": 9,
     "metadata": {},
     "output_type": "execute_result"
    }
   ],
   "source": [
    "# для просмотра экрана браузера\n",
    "browser.save_screenshot(f'screenshots.png')"
   ]
  },
  {
   "cell_type": "code",
   "execution_count": null,
   "metadata": {
    "colab": {
     "base_uri": "https://localhost:8080/"
    },
    "id": "mQ-L57SJtKng",
    "outputId": "a8aaeaf9-b323-41ee-9999-32e6f4de7afe"
   },
   "outputs": [
    {
     "data": {
      "text/plain": [
       "339"
      ]
     },
     "execution_count": 10,
     "metadata": {},
     "output_type": "execute_result"
    }
   ],
   "source": [
    "len(dataset) # сколько заданий собрали"
   ]
  },
  {
   "cell_type": "code",
   "execution_count": null,
   "metadata": {
    "id": "GvZWAxnPws9c"
   },
   "outputs": [],
   "source": [
    "with open(f\"drive/MyDrive/sdamgia_{len(dataset)}.pkl\", \"wb\") as f:\n",
    "    pickle.dump(dataset, f)"
   ]
  }
 ],
 "metadata": {
  "colab": {
   "name": "parser_sdamgia.ipynb",
   "provenance": []
  },
  "kernelspec": {
   "display_name": "Python 3 (ipykernel)",
   "language": "python",
   "name": "python3"
  },
  "language_info": {
   "codemirror_mode": {
    "name": "ipython",
    "version": 3
   },
   "file_extension": ".py",
   "mimetype": "text/x-python",
   "name": "python",
   "nbconvert_exporter": "python",
   "pygments_lexer": "ipython3",
   "version": "3.7.12"
  }
 },
 "nbformat": 4,
 "nbformat_minor": 4
}
